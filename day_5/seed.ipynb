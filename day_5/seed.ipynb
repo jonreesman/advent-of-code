{
 "cells": [
  {
   "cell_type": "markdown",
   "metadata": {},
   "source": [
    "# Day 5: If You Give A Seed A Fertilizer"
   ]
  },
  {
   "cell_type": "markdown",
   "metadata": {},
   "source": [
    "## Part 1"
   ]
  },
  {
   "cell_type": "code",
   "execution_count": 14,
   "metadata": {},
   "outputs": [],
   "source": [
    "from dataclasses import dataclass, field\n",
    "\n",
    "@dataclass\n",
    "class Mapping:\n",
    "    dest_start: int\n",
    "    src_start: int\n",
    "    range: int\n",
    "    \n",
    "    @property\n",
    "    def dest_range(self):\n",
    "        return (self.dest_start, self.dest_start + self.range - 1)\n",
    "\n",
    "    @property\n",
    "    def src_range(self):\n",
    "        return (self.src_start, self.src_start + self.range - 1)\n",
    "    \n",
    "    @property\n",
    "    def difference(self):\n",
    "        return self.dest_start - self.src_start\n",
    "    \n",
    "    \n",
    "\n",
    "@dataclass\n",
    "class Mapper:\n",
    "    name: str\n",
    "    mappings: list[Mapping]\n",
    "    next_mapper: \"Mapper\" = field(default_factory=lambda: None)\n",
    "    \n",
    "    def sort(self) -> None:\n",
    "        def _sort(a, b):\n",
    "            return a.src_start < b.src_start\n",
    "        self.mappings.sort(_sort)    \n",
    "\n",
    "    def get_dest(self, num: int) -> int:\n",
    "        print(f\"in {self.name} mapper\")\n",
    "        val = num\n",
    "        for mapping in self.mappings:\n",
    "            # IN MEMORIAM: Here lies 15 wasted minutes of my time. Those poor minutes\n",
    "            # were wasted as a result of how severely time inefficient the line below is.\n",
    "            # For your sake, I recommend avoiding this method of checking whether a number\n",
    "            # is in a certain range at ALL costs. The simple alternative is ORDERS OF\n",
    "            # MAGNITUDE faster.\n",
    "            # You've been warned.\n",
    "            # if num in range(mapping.src_start, mapping.src_start + mapping.range):\n",
    "            if mapping.src_start < num < mapping.src_start + mapping.range:\n",
    "                val = mapping.dest_start + num - mapping.src_start\n",
    "        return val"
   ]
  },
  {
   "cell_type": "code",
   "execution_count": 15,
   "metadata": {},
   "outputs": [],
   "source": [
    "lines = []\n",
    "with open('input') as fp:\n",
    "    lines = fp.readlines()"
   ]
  },
  {
   "cell_type": "code",
   "execution_count": 16,
   "metadata": {},
   "outputs": [
    {
     "data": {
      "text/plain": [
       "'\\n'"
      ]
     },
     "execution_count": 16,
     "metadata": {},
     "output_type": "execute_result"
    }
   ],
   "source": [
    "seeds = lines.pop(0).replace('\\n','').split(\":\")[-1].strip().split()\n",
    "seeds = [ int(seed) for seed in seeds]\n",
    "lines.pop(0) # rm newline"
   ]
  },
  {
   "cell_type": "code",
   "execution_count": 17,
   "metadata": {},
   "outputs": [],
   "source": [
    "mappers = []\n",
    "curr_mapper = None\n",
    "for line in lines:\n",
    "    if \"map\" in line and curr_mapper is None:\n",
    "        name = line.split()[0]\n",
    "        curr_mapper = Mapper(name=name, mappings=[])\n",
    "    elif line == '\\n':\n",
    "        mappers.append(curr_mapper)\n",
    "        curr_mapper = None\n",
    "    else:\n",
    "        dest_start, src_start, rng = line.replace('\\n','').split()\n",
    "        mapping = Mapping(dest_start=int(dest_start), src_start=int(src_start), range=int(rng))  \n",
    "        curr_mapper.mappings.append(mapping)\n",
    "if curr_mapper:\n",
    "    mappers.append(curr_mapper)\n",
    "mappers = [mapper for mapper in mappers if mapper]\n",
    "for idx, mapper in enumerate(mappers):\n",
    "    if idx < len(mappers) - 1:\n",
    "        mapper.next_mapper = mappers[idx+1]\n",
    "    "
   ]
  },
  {
   "cell_type": "code",
   "execution_count": 18,
   "metadata": {},
   "outputs": [
    {
     "data": {
      "text/plain": [
       "[Mapper(name='seed-to-soil', mappings=[Mapping(dest_start=1716002126, src_start=3982609232, range=32819234), Mapping(dest_start=527777042, src_start=1448723593, range=108905538), Mapping(dest_start=3097613512, src_start=2185535945, range=24556299), Mapping(dest_start=3351444381, src_start=4015428466, range=144436121), Mapping(dest_start=3331711186, src_start=3196645623, range=19733195), Mapping(dest_start=169931418, src_start=1078390710, range=353970858), Mapping(dest_start=1621489177, src_start=1746859318, range=67938624), Mapping(dest_start=1904740745, src_start=2514777285, range=180582308), Mapping(dest_start=2435282992, src_start=2210092244, range=85514440), Mapping(dest_start=1398165946, src_start=286288423, range=41146536), Mapping(dest_start=523902276, src_start=1432361568, range=3874766), Mapping(dest_start=1903021413, src_start=3980889900, range=1719332), Mapping(dest_start=1689427801, src_start=2875575735, range=26574325), Mapping(dest_start=2085323053, src_start=2092073852, range=27802380), Mapping(dest_start=1244196171, src_start=922461291, range=37612770), Mapping(dest_start=3834107486, src_start=3846963083, range=28702903), Mapping(dest_start=636682580, src_start=327434959, range=595026332), Mapping(dest_start=3207795548, src_start=2695359593, range=118500381), Mapping(dest_start=3035897751, src_start=2813859974, range=61715761), Mapping(dest_start=3326295929, src_start=3875665986, range=5415257), Mapping(dest_start=3122169811, src_start=4209341559, range=85625737), Mapping(dest_start=3954618410, src_start=1867878056, range=11806468), Mapping(dest_start=3027897115, src_start=3881081243, range=8000636), Mapping(dest_start=74621536, src_start=159718198, range=10213220), Mapping(dest_start=4091795019, src_start=1879684524, range=56951870), Mapping(dest_start=4148746889, src_start=1995330417, range=96743435), Mapping(dest_start=84834756, src_start=0, range=85096662), Mapping(dest_start=3800092500, src_start=2331115565, range=34014986), Mapping(dest_start=1281808941, src_start=169931418, range=116357005), Mapping(dest_start=4245490324, src_start=4159864587, range=49476972), Mapping(dest_start=2609257929, src_start=3467510702, range=57294822), Mapping(dest_start=2113125433, src_start=3524805524, range=322157559), Mapping(dest_start=2520797432, src_start=1936636394, range=58694023), Mapping(dest_start=3495880502, src_start=1814797942, range=53080114), Mapping(dest_start=1748821360, src_start=2119876232, range=65659713), Mapping(dest_start=0, src_start=85096662, range=74621536), Mapping(dest_start=3548960616, src_start=3216378818, range=251131884), Mapping(dest_start=2931281840, src_start=2418162010, range=96615275), Mapping(dest_start=1439312482, src_start=960074061, range=118316649), Mapping(dest_start=2674851505, src_start=2910448814, range=256430335), Mapping(dest_start=2666552751, src_start=2902150060, range=8298754), Mapping(dest_start=3966424878, src_start=1621489177, range=125370141), Mapping(dest_start=1231708912, src_start=1436236334, range=12487259), Mapping(dest_start=3862810389, src_start=3889081879, range=91808021), Mapping(dest_start=2579491455, src_start=3166879149, range=29766474), Mapping(dest_start=1867512532, src_start=2295606684, range=35508881), Mapping(dest_start=1814481073, src_start=2365130551, range=53031459)], next_mapper=Mapper(name='soil-to-fertilizer', mappings=[Mapping(dest_start=900001914, src_start=416463108, range=281254528), Mapping(dest_start=0, src_start=126604924, range=281385177), Mapping(dest_start=281385177, src_start=1157253669, range=618616737), Mapping(dest_start=1885448579, src_start=1775870406, range=139515090), Mapping(dest_start=3016033145, src_start=2662884952, range=103067725), Mapping(dest_start=1189729449, src_start=1110523399, range=46730270), Mapping(dest_start=2123796167, src_start=0, range=126604924), Mapping(dest_start=2809716281, src_start=3293179505, range=206316864), Mapping(dest_start=3394722305, src_start=3499496369, range=373018163), Mapping(dest_start=2250401091, src_start=1915385496, range=17843034), Mapping(dest_start=2387263517, src_start=3872514532, range=299008639), Mapping(dest_start=1181256442, src_start=407990101, range=8473007), Mapping(dest_start=2686272156, src_start=4171523171, range=123444125), Mapping(dest_start=3767740468, src_start=2765952677, range=527226828), Mapping(dest_start=1236459719, src_start=1933228530, range=335015595), Mapping(dest_start=1571475314, src_start=697717636, range=313973265), Mapping(dest_start=2024963669, src_start=1011690901, range=98832498), Mapping(dest_start=3119100870, src_start=2387263517, range=275621435)], next_mapper=Mapper(name='fertilizer-to-water', mappings=[Mapping(dest_start=2043262733, src_start=3156005317, range=240398158), Mapping(dest_start=740161853, src_start=3396403475, range=396633652), Mapping(dest_start=2283660891, src_start=728762031, range=158542508), Mapping(dest_start=338820086, src_start=530011363, range=198750668), Mapping(dest_start=2442203399, src_start=1391771783, range=889292891), Mapping(dest_start=3734522375, src_start=237378927, range=58514752), Mapping(dest_start=3331496290, src_start=988745698, range=403026085), Mapping(dest_start=1136795505, src_start=2814613159, range=341392158), Mapping(dest_start=1809145049, src_start=295893679, range=234117684), Mapping(dest_start=537570754, src_start=2281064674, range=202591099), Mapping(dest_start=1478187663, src_start=2483655773, range=330957386), Mapping(dest_start=237378927, src_start=887304539, range=101441159)], next_mapper=Mapper(name='water-to-light', mappings=[Mapping(dest_start=3659569782, src_start=1525449239, range=315716712), Mapping(dest_start=3476299666, src_start=1083068766, range=183270116), Mapping(dest_start=3231355346, src_start=2188139141, range=105510824), Mapping(dest_start=4174005670, src_start=3640676221, range=26006855), Mapping(dest_start=2033660875, src_start=1999740193, range=45748640), Mapping(dest_start=4057070245, src_start=1972906150, range=26834043), Mapping(dest_start=972390863, src_start=634517173, range=12741770), Mapping(dest_start=2909470443, src_start=3992972439, range=35114066), Mapping(dest_start=3371367762, src_start=3517719799, range=18082344), Mapping(dest_start=1577969948, src_start=2765252679, range=71346084), Mapping(dest_start=1355403194, src_start=769026051, range=222566754), Mapping(dest_start=1025652593, src_start=3705699048, range=26412059), Mapping(dest_start=3389450106, src_start=2756144754, range=7720673), Mapping(dest_start=519325900, src_start=2956875516, range=263858379), Mapping(dest_start=3176461571, src_start=2056589398, range=54893775), Mapping(dest_start=1649316032, src_start=3732111107, range=254481047), Mapping(dest_start=4005461865, src_start=3535802143, range=40507815), Mapping(dest_start=868266049, src_start=3220733895, range=65108842), Mapping(dest_start=2323504821, src_start=1300840474, range=47494425), Mapping(dest_start=4045969680, src_start=2045488833, range=11100565), Mapping(dest_start=4083904288, src_start=2939503515, range=17372001), Mapping(dest_start=933374891, src_start=3666683076, range=39015972), Mapping(dest_start=2944584509, src_start=3285842737, range=231877062), Mapping(dest_start=2603233578, src_start=442821495, range=41827275), Mapping(dest_start=3403912268, src_start=4028086505, range=49362804), Mapping(dest_start=860498512, src_start=2763865427, range=1387252), Mapping(dest_start=4200012525, src_start=347866724, range=94954771), Mapping(dest_start=387585701, src_start=1841165951, range=131740199), Mapping(dest_start=2435365509, src_start=2293649965, range=167868069), Mapping(dest_start=2170885476, src_start=733737763, range=35288288), Mapping(dest_start=2645060853, src_start=484648770, range=149868403), Mapping(dest_start=1903797079, src_start=1509336552, range=16112687), Mapping(dest_start=3453275072, src_start=2733120160, range=23024594), Mapping(dest_start=2370999246, src_start=3576309958, range=64366263), Mapping(dest_start=3975286494, src_start=2909328144, range=30175371), Mapping(dest_start=2206173764, src_start=2615789103, range=117331057), Mapping(dest_start=226584048, src_start=1348334899, range=161001653), Mapping(dest_start=3397170779, src_start=226584048, range=6741489), Mapping(dest_start=2079409515, src_start=991592805, range=91475961), Mapping(dest_start=3336866170, src_start=1266338882, range=34501592), Mapping(dest_start=4101276289, src_start=2836598763, range=72729381), Mapping(dest_start=1919909766, src_start=2502037994, range=113751109), Mapping(dest_start=1268924374, src_start=647258943, range=86478820), Mapping(dest_start=861885764, src_start=3986592154, range=6380285), Mapping(dest_start=783842544, src_start=2111483173, range=76655968), Mapping(dest_start=1052064652, src_start=4077449309, range=216859722), Mapping(dest_start=783184279, src_start=4294309031, range=658265), Mapping(dest_start=985132633, src_start=2461518034, range=40519960), Mapping(dest_start=2794929256, src_start=233325537, range=114541187)], next_mapper=Mapper(name='light-to-temperature', mappings=[Mapping(dest_start=3539333023, src_start=2561430684, range=132087009), Mapping(dest_start=3698501184, src_start=4084205096, range=109385247), Mapping(dest_start=3378310404, src_start=4253495312, range=1341714), Mapping(dest_start=3379652118, src_start=4281918178, range=4529732), Mapping(dest_start=3384181850, src_start=2314593178, range=64260938), Mapping(dest_start=2785407303, src_start=2874819838, range=586422865), Mapping(dest_start=25112293, src_start=160761603, range=162822339), Mapping(dest_start=770938901, src_start=1968882287, range=168925624), Mapping(dest_start=2705922239, src_start=2697964303, range=79485064), Mapping(dest_start=512617614, src_start=0, range=160761603), Mapping(dest_start=3671420032, src_start=4254837026, range=27081152), Mapping(dest_start=673379217, src_start=387568324, range=33575302), Mapping(dest_start=706954519, src_start=323583942, range=63984382), Mapping(dest_start=1047197914, src_start=1580976419, range=38110593), Mapping(dest_start=0, src_start=1619087012, range=25112293), Mapping(dest_start=2297003964, src_start=4193590343, range=8717958), Mapping(dest_start=187934632, src_start=1644199305, range=324682982), Mapping(dest_start=4277378082, src_start=2297003964, range=17589214), Mapping(dest_start=4227273431, src_start=2511326033, range=50104651), Mapping(dest_start=939864525, src_start=1133158202, range=107333389), Mapping(dest_start=2692956243, src_start=4286447910, range=8519386), Mapping(dest_start=3448442788, src_start=2777449367, range=90890235), Mapping(dest_start=1085308507, src_start=1240491591, range=340484828), Mapping(dest_start=1425793335, src_start=421143626, range=712014576), Mapping(dest_start=3371830168, src_start=2868339602, range=6480236), Mapping(dest_start=2701475629, src_start=2693517693, range=4446610), Mapping(dest_start=2305721922, src_start=4202308301, range=51187011), Mapping(dest_start=3807886431, src_start=2378854116, range=132471917), Mapping(dest_start=3940358348, src_start=3797290013, range=286915083), Mapping(dest_start=2356908933, src_start=3461242703, range=336047310)], next_mapper=Mapper(name='temperature-to-humidity', mappings=[Mapping(dest_start=4269649447, src_start=2393649810, range=25317849), Mapping(dest_start=2624622018, src_start=1500892381, range=293269560), Mapping(dest_start=3784916401, src_start=3939293015, range=342497756), Mapping(dest_start=2265977332, src_start=3395782296, range=159502803), Mapping(dest_start=1831892433, src_start=2656443697, range=262271473), Mapping(dest_start=3165592569, src_start=2418967659, range=50349192), Mapping(dest_start=2917891578, src_start=2918715170, range=32249137), Mapping(dest_start=3152416044, src_start=4281790771, range=13176525), Mapping(dest_start=2425480135, src_start=3196640413, range=199141883), Mapping(dest_start=0, src_start=541439970, range=311711929), Mapping(dest_start=1823766565, src_start=1492766513, range=8125868), Mapping(dest_start=990491492, src_start=84547230, range=456892740), Mapping(dest_start=311711929, src_start=0, range=84547230), Mapping(dest_start=2950140715, src_start=2469316851, range=187126846), Mapping(dest_start=4127414157, src_start=2950964307, range=142235290), Mapping(dest_start=396259159, src_start=853151899, range=594232333), Mapping(dest_start=3215941761, src_start=3555285099, range=21604105), Mapping(dest_start=2094163906, src_start=2206687901, range=171813426), Mapping(dest_start=3703390493, src_start=2125161993, range=81525908), Mapping(dest_start=3340986682, src_start=3576889204, range=362403811), Mapping(dest_start=3137267561, src_start=2378501327, range=15148483), Mapping(dest_start=3237545866, src_start=3093199597, range=103440816), Mapping(dest_start=1492766513, src_start=1794161941, range=331000052)], next_mapper=Mapper(name='humidity-to-location', mappings=[Mapping(dest_start=697523568, src_start=606382276, range=38912139), Mapping(dest_start=3022503077, src_start=2608306075, range=46906919), Mapping(dest_start=3230895262, src_start=2302415707, range=63420952), Mapping(dest_start=736435707, src_start=183964832, range=131646187), Mapping(dest_start=3507404317, src_start=3731540503, range=41469688), Mapping(dest_start=1013393252, src_start=490470958, range=115911318), Mapping(dest_start=270068585, src_start=0, range=183964832), Mapping(dest_start=3316292469, src_start=3480652736, range=191111848), Mapping(dest_start=3800980345, src_start=2893452190, range=286098783), Mapping(dest_start=2373021543, src_start=3773010191, range=190266), Mapping(dest_start=3548874005, src_start=3993865558, range=91972017), Mapping(dest_start=0, src_start=645294415, range=270068585), Mapping(dest_start=2373211809, src_start=4094117141, range=87252238), Mapping(dest_start=2856512732, src_start=2695675634, range=165990345), Mapping(dest_start=2460464047, src_start=4085837575, range=8279566), Mapping(dest_start=619680743, src_start=351018435, range=72089891), Mapping(dest_start=3069409996, src_start=2365836659, range=129699055), Mapping(dest_start=3640846022, src_start=3813115875, range=53385677), Mapping(dest_start=2729080766, src_start=2240595460, range=61820247), Mapping(dest_start=1554011298, src_start=1459823647, range=179489523), Mapping(dest_start=1884012518, src_start=2495535714, range=112770361), Mapping(dest_start=2468743613, src_start=3363193697, range=35293527), Mapping(dest_start=3199109051, src_start=2861665979, range=31786211), Mapping(dest_start=454033417, src_start=1031019876, range=98284694), Mapping(dest_start=1733500821, src_start=1302115255, range=150511697), Mapping(dest_start=1431930368, src_start=3773200457, range=39915418), Mapping(dest_start=691770634, src_start=930855093, range=5752934), Mapping(dest_start=3694231699, src_start=3671764584, range=59775919), Mapping(dest_start=1302115255, src_start=2655212994, range=40462640), Mapping(dest_start=868081894, src_start=936608027, range=94411849), Mapping(dest_start=4087079128, src_start=4181369379, range=113597917), Mapping(dest_start=1471845786, src_start=3398487224, range=82165512), Mapping(dest_start=997901159, src_start=915363000, range=15492093), Mapping(dest_start=2504037140, src_start=2015551834, range=225043626), Mapping(dest_start=3761204313, src_start=3866501552, range=39776032), Mapping(dest_start=552318111, src_start=423108326, range=67362632), Mapping(dest_start=2790901013, src_start=3906277584, range=65611719), Mapping(dest_start=3294316214, src_start=3971889303, range=21976255), Mapping(dest_start=962493743, src_start=315611019, range=35407416), Mapping(dest_start=4200677045, src_start=3268903446, range=94290251), Mapping(dest_start=3754007618, src_start=1452626952, range=7196695), Mapping(dest_start=1996782879, src_start=1639313170, range=376238664), Mapping(dest_start=1342577895, src_start=3179550973, range=89352473)], next_mapper=None))))))),\n",
       " Mapper(name='soil-to-fertilizer', mappings=[Mapping(dest_start=900001914, src_start=416463108, range=281254528), Mapping(dest_start=0, src_start=126604924, range=281385177), Mapping(dest_start=281385177, src_start=1157253669, range=618616737), Mapping(dest_start=1885448579, src_start=1775870406, range=139515090), Mapping(dest_start=3016033145, src_start=2662884952, range=103067725), Mapping(dest_start=1189729449, src_start=1110523399, range=46730270), Mapping(dest_start=2123796167, src_start=0, range=126604924), Mapping(dest_start=2809716281, src_start=3293179505, range=206316864), Mapping(dest_start=3394722305, src_start=3499496369, range=373018163), Mapping(dest_start=2250401091, src_start=1915385496, range=17843034), Mapping(dest_start=2387263517, src_start=3872514532, range=299008639), Mapping(dest_start=1181256442, src_start=407990101, range=8473007), Mapping(dest_start=2686272156, src_start=4171523171, range=123444125), Mapping(dest_start=3767740468, src_start=2765952677, range=527226828), Mapping(dest_start=1236459719, src_start=1933228530, range=335015595), Mapping(dest_start=1571475314, src_start=697717636, range=313973265), Mapping(dest_start=2024963669, src_start=1011690901, range=98832498), Mapping(dest_start=3119100870, src_start=2387263517, range=275621435)], next_mapper=Mapper(name='fertilizer-to-water', mappings=[Mapping(dest_start=2043262733, src_start=3156005317, range=240398158), Mapping(dest_start=740161853, src_start=3396403475, range=396633652), Mapping(dest_start=2283660891, src_start=728762031, range=158542508), Mapping(dest_start=338820086, src_start=530011363, range=198750668), Mapping(dest_start=2442203399, src_start=1391771783, range=889292891), Mapping(dest_start=3734522375, src_start=237378927, range=58514752), Mapping(dest_start=3331496290, src_start=988745698, range=403026085), Mapping(dest_start=1136795505, src_start=2814613159, range=341392158), Mapping(dest_start=1809145049, src_start=295893679, range=234117684), Mapping(dest_start=537570754, src_start=2281064674, range=202591099), Mapping(dest_start=1478187663, src_start=2483655773, range=330957386), Mapping(dest_start=237378927, src_start=887304539, range=101441159)], next_mapper=Mapper(name='water-to-light', mappings=[Mapping(dest_start=3659569782, src_start=1525449239, range=315716712), Mapping(dest_start=3476299666, src_start=1083068766, range=183270116), Mapping(dest_start=3231355346, src_start=2188139141, range=105510824), Mapping(dest_start=4174005670, src_start=3640676221, range=26006855), Mapping(dest_start=2033660875, src_start=1999740193, range=45748640), Mapping(dest_start=4057070245, src_start=1972906150, range=26834043), Mapping(dest_start=972390863, src_start=634517173, range=12741770), Mapping(dest_start=2909470443, src_start=3992972439, range=35114066), Mapping(dest_start=3371367762, src_start=3517719799, range=18082344), Mapping(dest_start=1577969948, src_start=2765252679, range=71346084), Mapping(dest_start=1355403194, src_start=769026051, range=222566754), Mapping(dest_start=1025652593, src_start=3705699048, range=26412059), Mapping(dest_start=3389450106, src_start=2756144754, range=7720673), Mapping(dest_start=519325900, src_start=2956875516, range=263858379), Mapping(dest_start=3176461571, src_start=2056589398, range=54893775), Mapping(dest_start=1649316032, src_start=3732111107, range=254481047), Mapping(dest_start=4005461865, src_start=3535802143, range=40507815), Mapping(dest_start=868266049, src_start=3220733895, range=65108842), Mapping(dest_start=2323504821, src_start=1300840474, range=47494425), Mapping(dest_start=4045969680, src_start=2045488833, range=11100565), Mapping(dest_start=4083904288, src_start=2939503515, range=17372001), Mapping(dest_start=933374891, src_start=3666683076, range=39015972), Mapping(dest_start=2944584509, src_start=3285842737, range=231877062), Mapping(dest_start=2603233578, src_start=442821495, range=41827275), Mapping(dest_start=3403912268, src_start=4028086505, range=49362804), Mapping(dest_start=860498512, src_start=2763865427, range=1387252), Mapping(dest_start=4200012525, src_start=347866724, range=94954771), Mapping(dest_start=387585701, src_start=1841165951, range=131740199), Mapping(dest_start=2435365509, src_start=2293649965, range=167868069), Mapping(dest_start=2170885476, src_start=733737763, range=35288288), Mapping(dest_start=2645060853, src_start=484648770, range=149868403), Mapping(dest_start=1903797079, src_start=1509336552, range=16112687), Mapping(dest_start=3453275072, src_start=2733120160, range=23024594), Mapping(dest_start=2370999246, src_start=3576309958, range=64366263), Mapping(dest_start=3975286494, src_start=2909328144, range=30175371), Mapping(dest_start=2206173764, src_start=2615789103, range=117331057), Mapping(dest_start=226584048, src_start=1348334899, range=161001653), Mapping(dest_start=3397170779, src_start=226584048, range=6741489), Mapping(dest_start=2079409515, src_start=991592805, range=91475961), Mapping(dest_start=3336866170, src_start=1266338882, range=34501592), Mapping(dest_start=4101276289, src_start=2836598763, range=72729381), Mapping(dest_start=1919909766, src_start=2502037994, range=113751109), Mapping(dest_start=1268924374, src_start=647258943, range=86478820), Mapping(dest_start=861885764, src_start=3986592154, range=6380285), Mapping(dest_start=783842544, src_start=2111483173, range=76655968), Mapping(dest_start=1052064652, src_start=4077449309, range=216859722), Mapping(dest_start=783184279, src_start=4294309031, range=658265), Mapping(dest_start=985132633, src_start=2461518034, range=40519960), Mapping(dest_start=2794929256, src_start=233325537, range=114541187)], next_mapper=Mapper(name='light-to-temperature', mappings=[Mapping(dest_start=3539333023, src_start=2561430684, range=132087009), Mapping(dest_start=3698501184, src_start=4084205096, range=109385247), Mapping(dest_start=3378310404, src_start=4253495312, range=1341714), Mapping(dest_start=3379652118, src_start=4281918178, range=4529732), Mapping(dest_start=3384181850, src_start=2314593178, range=64260938), Mapping(dest_start=2785407303, src_start=2874819838, range=586422865), Mapping(dest_start=25112293, src_start=160761603, range=162822339), Mapping(dest_start=770938901, src_start=1968882287, range=168925624), Mapping(dest_start=2705922239, src_start=2697964303, range=79485064), Mapping(dest_start=512617614, src_start=0, range=160761603), Mapping(dest_start=3671420032, src_start=4254837026, range=27081152), Mapping(dest_start=673379217, src_start=387568324, range=33575302), Mapping(dest_start=706954519, src_start=323583942, range=63984382), Mapping(dest_start=1047197914, src_start=1580976419, range=38110593), Mapping(dest_start=0, src_start=1619087012, range=25112293), Mapping(dest_start=2297003964, src_start=4193590343, range=8717958), Mapping(dest_start=187934632, src_start=1644199305, range=324682982), Mapping(dest_start=4277378082, src_start=2297003964, range=17589214), Mapping(dest_start=4227273431, src_start=2511326033, range=50104651), Mapping(dest_start=939864525, src_start=1133158202, range=107333389), Mapping(dest_start=2692956243, src_start=4286447910, range=8519386), Mapping(dest_start=3448442788, src_start=2777449367, range=90890235), Mapping(dest_start=1085308507, src_start=1240491591, range=340484828), Mapping(dest_start=1425793335, src_start=421143626, range=712014576), Mapping(dest_start=3371830168, src_start=2868339602, range=6480236), Mapping(dest_start=2701475629, src_start=2693517693, range=4446610), Mapping(dest_start=2305721922, src_start=4202308301, range=51187011), Mapping(dest_start=3807886431, src_start=2378854116, range=132471917), Mapping(dest_start=3940358348, src_start=3797290013, range=286915083), Mapping(dest_start=2356908933, src_start=3461242703, range=336047310)], next_mapper=Mapper(name='temperature-to-humidity', mappings=[Mapping(dest_start=4269649447, src_start=2393649810, range=25317849), Mapping(dest_start=2624622018, src_start=1500892381, range=293269560), Mapping(dest_start=3784916401, src_start=3939293015, range=342497756), Mapping(dest_start=2265977332, src_start=3395782296, range=159502803), Mapping(dest_start=1831892433, src_start=2656443697, range=262271473), Mapping(dest_start=3165592569, src_start=2418967659, range=50349192), Mapping(dest_start=2917891578, src_start=2918715170, range=32249137), Mapping(dest_start=3152416044, src_start=4281790771, range=13176525), Mapping(dest_start=2425480135, src_start=3196640413, range=199141883), Mapping(dest_start=0, src_start=541439970, range=311711929), Mapping(dest_start=1823766565, src_start=1492766513, range=8125868), Mapping(dest_start=990491492, src_start=84547230, range=456892740), Mapping(dest_start=311711929, src_start=0, range=84547230), Mapping(dest_start=2950140715, src_start=2469316851, range=187126846), Mapping(dest_start=4127414157, src_start=2950964307, range=142235290), Mapping(dest_start=396259159, src_start=853151899, range=594232333), Mapping(dest_start=3215941761, src_start=3555285099, range=21604105), Mapping(dest_start=2094163906, src_start=2206687901, range=171813426), Mapping(dest_start=3703390493, src_start=2125161993, range=81525908), Mapping(dest_start=3340986682, src_start=3576889204, range=362403811), Mapping(dest_start=3137267561, src_start=2378501327, range=15148483), Mapping(dest_start=3237545866, src_start=3093199597, range=103440816), Mapping(dest_start=1492766513, src_start=1794161941, range=331000052)], next_mapper=Mapper(name='humidity-to-location', mappings=[Mapping(dest_start=697523568, src_start=606382276, range=38912139), Mapping(dest_start=3022503077, src_start=2608306075, range=46906919), Mapping(dest_start=3230895262, src_start=2302415707, range=63420952), Mapping(dest_start=736435707, src_start=183964832, range=131646187), Mapping(dest_start=3507404317, src_start=3731540503, range=41469688), Mapping(dest_start=1013393252, src_start=490470958, range=115911318), Mapping(dest_start=270068585, src_start=0, range=183964832), Mapping(dest_start=3316292469, src_start=3480652736, range=191111848), Mapping(dest_start=3800980345, src_start=2893452190, range=286098783), Mapping(dest_start=2373021543, src_start=3773010191, range=190266), Mapping(dest_start=3548874005, src_start=3993865558, range=91972017), Mapping(dest_start=0, src_start=645294415, range=270068585), Mapping(dest_start=2373211809, src_start=4094117141, range=87252238), Mapping(dest_start=2856512732, src_start=2695675634, range=165990345), Mapping(dest_start=2460464047, src_start=4085837575, range=8279566), Mapping(dest_start=619680743, src_start=351018435, range=72089891), Mapping(dest_start=3069409996, src_start=2365836659, range=129699055), Mapping(dest_start=3640846022, src_start=3813115875, range=53385677), Mapping(dest_start=2729080766, src_start=2240595460, range=61820247), Mapping(dest_start=1554011298, src_start=1459823647, range=179489523), Mapping(dest_start=1884012518, src_start=2495535714, range=112770361), Mapping(dest_start=2468743613, src_start=3363193697, range=35293527), Mapping(dest_start=3199109051, src_start=2861665979, range=31786211), Mapping(dest_start=454033417, src_start=1031019876, range=98284694), Mapping(dest_start=1733500821, src_start=1302115255, range=150511697), Mapping(dest_start=1431930368, src_start=3773200457, range=39915418), Mapping(dest_start=691770634, src_start=930855093, range=5752934), Mapping(dest_start=3694231699, src_start=3671764584, range=59775919), Mapping(dest_start=1302115255, src_start=2655212994, range=40462640), Mapping(dest_start=868081894, src_start=936608027, range=94411849), Mapping(dest_start=4087079128, src_start=4181369379, range=113597917), Mapping(dest_start=1471845786, src_start=3398487224, range=82165512), Mapping(dest_start=997901159, src_start=915363000, range=15492093), Mapping(dest_start=2504037140, src_start=2015551834, range=225043626), Mapping(dest_start=3761204313, src_start=3866501552, range=39776032), Mapping(dest_start=552318111, src_start=423108326, range=67362632), Mapping(dest_start=2790901013, src_start=3906277584, range=65611719), Mapping(dest_start=3294316214, src_start=3971889303, range=21976255), Mapping(dest_start=962493743, src_start=315611019, range=35407416), Mapping(dest_start=4200677045, src_start=3268903446, range=94290251), Mapping(dest_start=3754007618, src_start=1452626952, range=7196695), Mapping(dest_start=1996782879, src_start=1639313170, range=376238664), Mapping(dest_start=1342577895, src_start=3179550973, range=89352473)], next_mapper=None)))))),\n",
       " Mapper(name='fertilizer-to-water', mappings=[Mapping(dest_start=2043262733, src_start=3156005317, range=240398158), Mapping(dest_start=740161853, src_start=3396403475, range=396633652), Mapping(dest_start=2283660891, src_start=728762031, range=158542508), Mapping(dest_start=338820086, src_start=530011363, range=198750668), Mapping(dest_start=2442203399, src_start=1391771783, range=889292891), Mapping(dest_start=3734522375, src_start=237378927, range=58514752), Mapping(dest_start=3331496290, src_start=988745698, range=403026085), Mapping(dest_start=1136795505, src_start=2814613159, range=341392158), Mapping(dest_start=1809145049, src_start=295893679, range=234117684), Mapping(dest_start=537570754, src_start=2281064674, range=202591099), Mapping(dest_start=1478187663, src_start=2483655773, range=330957386), Mapping(dest_start=237378927, src_start=887304539, range=101441159)], next_mapper=Mapper(name='water-to-light', mappings=[Mapping(dest_start=3659569782, src_start=1525449239, range=315716712), Mapping(dest_start=3476299666, src_start=1083068766, range=183270116), Mapping(dest_start=3231355346, src_start=2188139141, range=105510824), Mapping(dest_start=4174005670, src_start=3640676221, range=26006855), Mapping(dest_start=2033660875, src_start=1999740193, range=45748640), Mapping(dest_start=4057070245, src_start=1972906150, range=26834043), Mapping(dest_start=972390863, src_start=634517173, range=12741770), Mapping(dest_start=2909470443, src_start=3992972439, range=35114066), Mapping(dest_start=3371367762, src_start=3517719799, range=18082344), Mapping(dest_start=1577969948, src_start=2765252679, range=71346084), Mapping(dest_start=1355403194, src_start=769026051, range=222566754), Mapping(dest_start=1025652593, src_start=3705699048, range=26412059), Mapping(dest_start=3389450106, src_start=2756144754, range=7720673), Mapping(dest_start=519325900, src_start=2956875516, range=263858379), Mapping(dest_start=3176461571, src_start=2056589398, range=54893775), Mapping(dest_start=1649316032, src_start=3732111107, range=254481047), Mapping(dest_start=4005461865, src_start=3535802143, range=40507815), Mapping(dest_start=868266049, src_start=3220733895, range=65108842), Mapping(dest_start=2323504821, src_start=1300840474, range=47494425), Mapping(dest_start=4045969680, src_start=2045488833, range=11100565), Mapping(dest_start=4083904288, src_start=2939503515, range=17372001), Mapping(dest_start=933374891, src_start=3666683076, range=39015972), Mapping(dest_start=2944584509, src_start=3285842737, range=231877062), Mapping(dest_start=2603233578, src_start=442821495, range=41827275), Mapping(dest_start=3403912268, src_start=4028086505, range=49362804), Mapping(dest_start=860498512, src_start=2763865427, range=1387252), Mapping(dest_start=4200012525, src_start=347866724, range=94954771), Mapping(dest_start=387585701, src_start=1841165951, range=131740199), Mapping(dest_start=2435365509, src_start=2293649965, range=167868069), Mapping(dest_start=2170885476, src_start=733737763, range=35288288), Mapping(dest_start=2645060853, src_start=484648770, range=149868403), Mapping(dest_start=1903797079, src_start=1509336552, range=16112687), Mapping(dest_start=3453275072, src_start=2733120160, range=23024594), Mapping(dest_start=2370999246, src_start=3576309958, range=64366263), Mapping(dest_start=3975286494, src_start=2909328144, range=30175371), Mapping(dest_start=2206173764, src_start=2615789103, range=117331057), Mapping(dest_start=226584048, src_start=1348334899, range=161001653), Mapping(dest_start=3397170779, src_start=226584048, range=6741489), Mapping(dest_start=2079409515, src_start=991592805, range=91475961), Mapping(dest_start=3336866170, src_start=1266338882, range=34501592), Mapping(dest_start=4101276289, src_start=2836598763, range=72729381), Mapping(dest_start=1919909766, src_start=2502037994, range=113751109), Mapping(dest_start=1268924374, src_start=647258943, range=86478820), Mapping(dest_start=861885764, src_start=3986592154, range=6380285), Mapping(dest_start=783842544, src_start=2111483173, range=76655968), Mapping(dest_start=1052064652, src_start=4077449309, range=216859722), Mapping(dest_start=783184279, src_start=4294309031, range=658265), Mapping(dest_start=985132633, src_start=2461518034, range=40519960), Mapping(dest_start=2794929256, src_start=233325537, range=114541187)], next_mapper=Mapper(name='light-to-temperature', mappings=[Mapping(dest_start=3539333023, src_start=2561430684, range=132087009), Mapping(dest_start=3698501184, src_start=4084205096, range=109385247), Mapping(dest_start=3378310404, src_start=4253495312, range=1341714), Mapping(dest_start=3379652118, src_start=4281918178, range=4529732), Mapping(dest_start=3384181850, src_start=2314593178, range=64260938), Mapping(dest_start=2785407303, src_start=2874819838, range=586422865), Mapping(dest_start=25112293, src_start=160761603, range=162822339), Mapping(dest_start=770938901, src_start=1968882287, range=168925624), Mapping(dest_start=2705922239, src_start=2697964303, range=79485064), Mapping(dest_start=512617614, src_start=0, range=160761603), Mapping(dest_start=3671420032, src_start=4254837026, range=27081152), Mapping(dest_start=673379217, src_start=387568324, range=33575302), Mapping(dest_start=706954519, src_start=323583942, range=63984382), Mapping(dest_start=1047197914, src_start=1580976419, range=38110593), Mapping(dest_start=0, src_start=1619087012, range=25112293), Mapping(dest_start=2297003964, src_start=4193590343, range=8717958), Mapping(dest_start=187934632, src_start=1644199305, range=324682982), Mapping(dest_start=4277378082, src_start=2297003964, range=17589214), Mapping(dest_start=4227273431, src_start=2511326033, range=50104651), Mapping(dest_start=939864525, src_start=1133158202, range=107333389), Mapping(dest_start=2692956243, src_start=4286447910, range=8519386), Mapping(dest_start=3448442788, src_start=2777449367, range=90890235), Mapping(dest_start=1085308507, src_start=1240491591, range=340484828), Mapping(dest_start=1425793335, src_start=421143626, range=712014576), Mapping(dest_start=3371830168, src_start=2868339602, range=6480236), Mapping(dest_start=2701475629, src_start=2693517693, range=4446610), Mapping(dest_start=2305721922, src_start=4202308301, range=51187011), Mapping(dest_start=3807886431, src_start=2378854116, range=132471917), Mapping(dest_start=3940358348, src_start=3797290013, range=286915083), Mapping(dest_start=2356908933, src_start=3461242703, range=336047310)], next_mapper=Mapper(name='temperature-to-humidity', mappings=[Mapping(dest_start=4269649447, src_start=2393649810, range=25317849), Mapping(dest_start=2624622018, src_start=1500892381, range=293269560), Mapping(dest_start=3784916401, src_start=3939293015, range=342497756), Mapping(dest_start=2265977332, src_start=3395782296, range=159502803), Mapping(dest_start=1831892433, src_start=2656443697, range=262271473), Mapping(dest_start=3165592569, src_start=2418967659, range=50349192), Mapping(dest_start=2917891578, src_start=2918715170, range=32249137), Mapping(dest_start=3152416044, src_start=4281790771, range=13176525), Mapping(dest_start=2425480135, src_start=3196640413, range=199141883), Mapping(dest_start=0, src_start=541439970, range=311711929), Mapping(dest_start=1823766565, src_start=1492766513, range=8125868), Mapping(dest_start=990491492, src_start=84547230, range=456892740), Mapping(dest_start=311711929, src_start=0, range=84547230), Mapping(dest_start=2950140715, src_start=2469316851, range=187126846), Mapping(dest_start=4127414157, src_start=2950964307, range=142235290), Mapping(dest_start=396259159, src_start=853151899, range=594232333), Mapping(dest_start=3215941761, src_start=3555285099, range=21604105), Mapping(dest_start=2094163906, src_start=2206687901, range=171813426), Mapping(dest_start=3703390493, src_start=2125161993, range=81525908), Mapping(dest_start=3340986682, src_start=3576889204, range=362403811), Mapping(dest_start=3137267561, src_start=2378501327, range=15148483), Mapping(dest_start=3237545866, src_start=3093199597, range=103440816), Mapping(dest_start=1492766513, src_start=1794161941, range=331000052)], next_mapper=Mapper(name='humidity-to-location', mappings=[Mapping(dest_start=697523568, src_start=606382276, range=38912139), Mapping(dest_start=3022503077, src_start=2608306075, range=46906919), Mapping(dest_start=3230895262, src_start=2302415707, range=63420952), Mapping(dest_start=736435707, src_start=183964832, range=131646187), Mapping(dest_start=3507404317, src_start=3731540503, range=41469688), Mapping(dest_start=1013393252, src_start=490470958, range=115911318), Mapping(dest_start=270068585, src_start=0, range=183964832), Mapping(dest_start=3316292469, src_start=3480652736, range=191111848), Mapping(dest_start=3800980345, src_start=2893452190, range=286098783), Mapping(dest_start=2373021543, src_start=3773010191, range=190266), Mapping(dest_start=3548874005, src_start=3993865558, range=91972017), Mapping(dest_start=0, src_start=645294415, range=270068585), Mapping(dest_start=2373211809, src_start=4094117141, range=87252238), Mapping(dest_start=2856512732, src_start=2695675634, range=165990345), Mapping(dest_start=2460464047, src_start=4085837575, range=8279566), Mapping(dest_start=619680743, src_start=351018435, range=72089891), Mapping(dest_start=3069409996, src_start=2365836659, range=129699055), Mapping(dest_start=3640846022, src_start=3813115875, range=53385677), Mapping(dest_start=2729080766, src_start=2240595460, range=61820247), Mapping(dest_start=1554011298, src_start=1459823647, range=179489523), Mapping(dest_start=1884012518, src_start=2495535714, range=112770361), Mapping(dest_start=2468743613, src_start=3363193697, range=35293527), Mapping(dest_start=3199109051, src_start=2861665979, range=31786211), Mapping(dest_start=454033417, src_start=1031019876, range=98284694), Mapping(dest_start=1733500821, src_start=1302115255, range=150511697), Mapping(dest_start=1431930368, src_start=3773200457, range=39915418), Mapping(dest_start=691770634, src_start=930855093, range=5752934), Mapping(dest_start=3694231699, src_start=3671764584, range=59775919), Mapping(dest_start=1302115255, src_start=2655212994, range=40462640), Mapping(dest_start=868081894, src_start=936608027, range=94411849), Mapping(dest_start=4087079128, src_start=4181369379, range=113597917), Mapping(dest_start=1471845786, src_start=3398487224, range=82165512), Mapping(dest_start=997901159, src_start=915363000, range=15492093), Mapping(dest_start=2504037140, src_start=2015551834, range=225043626), Mapping(dest_start=3761204313, src_start=3866501552, range=39776032), Mapping(dest_start=552318111, src_start=423108326, range=67362632), Mapping(dest_start=2790901013, src_start=3906277584, range=65611719), Mapping(dest_start=3294316214, src_start=3971889303, range=21976255), Mapping(dest_start=962493743, src_start=315611019, range=35407416), Mapping(dest_start=4200677045, src_start=3268903446, range=94290251), Mapping(dest_start=3754007618, src_start=1452626952, range=7196695), Mapping(dest_start=1996782879, src_start=1639313170, range=376238664), Mapping(dest_start=1342577895, src_start=3179550973, range=89352473)], next_mapper=None))))),\n",
       " Mapper(name='water-to-light', mappings=[Mapping(dest_start=3659569782, src_start=1525449239, range=315716712), Mapping(dest_start=3476299666, src_start=1083068766, range=183270116), Mapping(dest_start=3231355346, src_start=2188139141, range=105510824), Mapping(dest_start=4174005670, src_start=3640676221, range=26006855), Mapping(dest_start=2033660875, src_start=1999740193, range=45748640), Mapping(dest_start=4057070245, src_start=1972906150, range=26834043), Mapping(dest_start=972390863, src_start=634517173, range=12741770), Mapping(dest_start=2909470443, src_start=3992972439, range=35114066), Mapping(dest_start=3371367762, src_start=3517719799, range=18082344), Mapping(dest_start=1577969948, src_start=2765252679, range=71346084), Mapping(dest_start=1355403194, src_start=769026051, range=222566754), Mapping(dest_start=1025652593, src_start=3705699048, range=26412059), Mapping(dest_start=3389450106, src_start=2756144754, range=7720673), Mapping(dest_start=519325900, src_start=2956875516, range=263858379), Mapping(dest_start=3176461571, src_start=2056589398, range=54893775), Mapping(dest_start=1649316032, src_start=3732111107, range=254481047), Mapping(dest_start=4005461865, src_start=3535802143, range=40507815), Mapping(dest_start=868266049, src_start=3220733895, range=65108842), Mapping(dest_start=2323504821, src_start=1300840474, range=47494425), Mapping(dest_start=4045969680, src_start=2045488833, range=11100565), Mapping(dest_start=4083904288, src_start=2939503515, range=17372001), Mapping(dest_start=933374891, src_start=3666683076, range=39015972), Mapping(dest_start=2944584509, src_start=3285842737, range=231877062), Mapping(dest_start=2603233578, src_start=442821495, range=41827275), Mapping(dest_start=3403912268, src_start=4028086505, range=49362804), Mapping(dest_start=860498512, src_start=2763865427, range=1387252), Mapping(dest_start=4200012525, src_start=347866724, range=94954771), Mapping(dest_start=387585701, src_start=1841165951, range=131740199), Mapping(dest_start=2435365509, src_start=2293649965, range=167868069), Mapping(dest_start=2170885476, src_start=733737763, range=35288288), Mapping(dest_start=2645060853, src_start=484648770, range=149868403), Mapping(dest_start=1903797079, src_start=1509336552, range=16112687), Mapping(dest_start=3453275072, src_start=2733120160, range=23024594), Mapping(dest_start=2370999246, src_start=3576309958, range=64366263), Mapping(dest_start=3975286494, src_start=2909328144, range=30175371), Mapping(dest_start=2206173764, src_start=2615789103, range=117331057), Mapping(dest_start=226584048, src_start=1348334899, range=161001653), Mapping(dest_start=3397170779, src_start=226584048, range=6741489), Mapping(dest_start=2079409515, src_start=991592805, range=91475961), Mapping(dest_start=3336866170, src_start=1266338882, range=34501592), Mapping(dest_start=4101276289, src_start=2836598763, range=72729381), Mapping(dest_start=1919909766, src_start=2502037994, range=113751109), Mapping(dest_start=1268924374, src_start=647258943, range=86478820), Mapping(dest_start=861885764, src_start=3986592154, range=6380285), Mapping(dest_start=783842544, src_start=2111483173, range=76655968), Mapping(dest_start=1052064652, src_start=4077449309, range=216859722), Mapping(dest_start=783184279, src_start=4294309031, range=658265), Mapping(dest_start=985132633, src_start=2461518034, range=40519960), Mapping(dest_start=2794929256, src_start=233325537, range=114541187)], next_mapper=Mapper(name='light-to-temperature', mappings=[Mapping(dest_start=3539333023, src_start=2561430684, range=132087009), Mapping(dest_start=3698501184, src_start=4084205096, range=109385247), Mapping(dest_start=3378310404, src_start=4253495312, range=1341714), Mapping(dest_start=3379652118, src_start=4281918178, range=4529732), Mapping(dest_start=3384181850, src_start=2314593178, range=64260938), Mapping(dest_start=2785407303, src_start=2874819838, range=586422865), Mapping(dest_start=25112293, src_start=160761603, range=162822339), Mapping(dest_start=770938901, src_start=1968882287, range=168925624), Mapping(dest_start=2705922239, src_start=2697964303, range=79485064), Mapping(dest_start=512617614, src_start=0, range=160761603), Mapping(dest_start=3671420032, src_start=4254837026, range=27081152), Mapping(dest_start=673379217, src_start=387568324, range=33575302), Mapping(dest_start=706954519, src_start=323583942, range=63984382), Mapping(dest_start=1047197914, src_start=1580976419, range=38110593), Mapping(dest_start=0, src_start=1619087012, range=25112293), Mapping(dest_start=2297003964, src_start=4193590343, range=8717958), Mapping(dest_start=187934632, src_start=1644199305, range=324682982), Mapping(dest_start=4277378082, src_start=2297003964, range=17589214), Mapping(dest_start=4227273431, src_start=2511326033, range=50104651), Mapping(dest_start=939864525, src_start=1133158202, range=107333389), Mapping(dest_start=2692956243, src_start=4286447910, range=8519386), Mapping(dest_start=3448442788, src_start=2777449367, range=90890235), Mapping(dest_start=1085308507, src_start=1240491591, range=340484828), Mapping(dest_start=1425793335, src_start=421143626, range=712014576), Mapping(dest_start=3371830168, src_start=2868339602, range=6480236), Mapping(dest_start=2701475629, src_start=2693517693, range=4446610), Mapping(dest_start=2305721922, src_start=4202308301, range=51187011), Mapping(dest_start=3807886431, src_start=2378854116, range=132471917), Mapping(dest_start=3940358348, src_start=3797290013, range=286915083), Mapping(dest_start=2356908933, src_start=3461242703, range=336047310)], next_mapper=Mapper(name='temperature-to-humidity', mappings=[Mapping(dest_start=4269649447, src_start=2393649810, range=25317849), Mapping(dest_start=2624622018, src_start=1500892381, range=293269560), Mapping(dest_start=3784916401, src_start=3939293015, range=342497756), Mapping(dest_start=2265977332, src_start=3395782296, range=159502803), Mapping(dest_start=1831892433, src_start=2656443697, range=262271473), Mapping(dest_start=3165592569, src_start=2418967659, range=50349192), Mapping(dest_start=2917891578, src_start=2918715170, range=32249137), Mapping(dest_start=3152416044, src_start=4281790771, range=13176525), Mapping(dest_start=2425480135, src_start=3196640413, range=199141883), Mapping(dest_start=0, src_start=541439970, range=311711929), Mapping(dest_start=1823766565, src_start=1492766513, range=8125868), Mapping(dest_start=990491492, src_start=84547230, range=456892740), Mapping(dest_start=311711929, src_start=0, range=84547230), Mapping(dest_start=2950140715, src_start=2469316851, range=187126846), Mapping(dest_start=4127414157, src_start=2950964307, range=142235290), Mapping(dest_start=396259159, src_start=853151899, range=594232333), Mapping(dest_start=3215941761, src_start=3555285099, range=21604105), Mapping(dest_start=2094163906, src_start=2206687901, range=171813426), Mapping(dest_start=3703390493, src_start=2125161993, range=81525908), Mapping(dest_start=3340986682, src_start=3576889204, range=362403811), Mapping(dest_start=3137267561, src_start=2378501327, range=15148483), Mapping(dest_start=3237545866, src_start=3093199597, range=103440816), Mapping(dest_start=1492766513, src_start=1794161941, range=331000052)], next_mapper=Mapper(name='humidity-to-location', mappings=[Mapping(dest_start=697523568, src_start=606382276, range=38912139), Mapping(dest_start=3022503077, src_start=2608306075, range=46906919), Mapping(dest_start=3230895262, src_start=2302415707, range=63420952), Mapping(dest_start=736435707, src_start=183964832, range=131646187), Mapping(dest_start=3507404317, src_start=3731540503, range=41469688), Mapping(dest_start=1013393252, src_start=490470958, range=115911318), Mapping(dest_start=270068585, src_start=0, range=183964832), Mapping(dest_start=3316292469, src_start=3480652736, range=191111848), Mapping(dest_start=3800980345, src_start=2893452190, range=286098783), Mapping(dest_start=2373021543, src_start=3773010191, range=190266), Mapping(dest_start=3548874005, src_start=3993865558, range=91972017), Mapping(dest_start=0, src_start=645294415, range=270068585), Mapping(dest_start=2373211809, src_start=4094117141, range=87252238), Mapping(dest_start=2856512732, src_start=2695675634, range=165990345), Mapping(dest_start=2460464047, src_start=4085837575, range=8279566), Mapping(dest_start=619680743, src_start=351018435, range=72089891), Mapping(dest_start=3069409996, src_start=2365836659, range=129699055), Mapping(dest_start=3640846022, src_start=3813115875, range=53385677), Mapping(dest_start=2729080766, src_start=2240595460, range=61820247), Mapping(dest_start=1554011298, src_start=1459823647, range=179489523), Mapping(dest_start=1884012518, src_start=2495535714, range=112770361), Mapping(dest_start=2468743613, src_start=3363193697, range=35293527), Mapping(dest_start=3199109051, src_start=2861665979, range=31786211), Mapping(dest_start=454033417, src_start=1031019876, range=98284694), Mapping(dest_start=1733500821, src_start=1302115255, range=150511697), Mapping(dest_start=1431930368, src_start=3773200457, range=39915418), Mapping(dest_start=691770634, src_start=930855093, range=5752934), Mapping(dest_start=3694231699, src_start=3671764584, range=59775919), Mapping(dest_start=1302115255, src_start=2655212994, range=40462640), Mapping(dest_start=868081894, src_start=936608027, range=94411849), Mapping(dest_start=4087079128, src_start=4181369379, range=113597917), Mapping(dest_start=1471845786, src_start=3398487224, range=82165512), Mapping(dest_start=997901159, src_start=915363000, range=15492093), Mapping(dest_start=2504037140, src_start=2015551834, range=225043626), Mapping(dest_start=3761204313, src_start=3866501552, range=39776032), Mapping(dest_start=552318111, src_start=423108326, range=67362632), Mapping(dest_start=2790901013, src_start=3906277584, range=65611719), Mapping(dest_start=3294316214, src_start=3971889303, range=21976255), Mapping(dest_start=962493743, src_start=315611019, range=35407416), Mapping(dest_start=4200677045, src_start=3268903446, range=94290251), Mapping(dest_start=3754007618, src_start=1452626952, range=7196695), Mapping(dest_start=1996782879, src_start=1639313170, range=376238664), Mapping(dest_start=1342577895, src_start=3179550973, range=89352473)], next_mapper=None)))),\n",
       " Mapper(name='light-to-temperature', mappings=[Mapping(dest_start=3539333023, src_start=2561430684, range=132087009), Mapping(dest_start=3698501184, src_start=4084205096, range=109385247), Mapping(dest_start=3378310404, src_start=4253495312, range=1341714), Mapping(dest_start=3379652118, src_start=4281918178, range=4529732), Mapping(dest_start=3384181850, src_start=2314593178, range=64260938), Mapping(dest_start=2785407303, src_start=2874819838, range=586422865), Mapping(dest_start=25112293, src_start=160761603, range=162822339), Mapping(dest_start=770938901, src_start=1968882287, range=168925624), Mapping(dest_start=2705922239, src_start=2697964303, range=79485064), Mapping(dest_start=512617614, src_start=0, range=160761603), Mapping(dest_start=3671420032, src_start=4254837026, range=27081152), Mapping(dest_start=673379217, src_start=387568324, range=33575302), Mapping(dest_start=706954519, src_start=323583942, range=63984382), Mapping(dest_start=1047197914, src_start=1580976419, range=38110593), Mapping(dest_start=0, src_start=1619087012, range=25112293), Mapping(dest_start=2297003964, src_start=4193590343, range=8717958), Mapping(dest_start=187934632, src_start=1644199305, range=324682982), Mapping(dest_start=4277378082, src_start=2297003964, range=17589214), Mapping(dest_start=4227273431, src_start=2511326033, range=50104651), Mapping(dest_start=939864525, src_start=1133158202, range=107333389), Mapping(dest_start=2692956243, src_start=4286447910, range=8519386), Mapping(dest_start=3448442788, src_start=2777449367, range=90890235), Mapping(dest_start=1085308507, src_start=1240491591, range=340484828), Mapping(dest_start=1425793335, src_start=421143626, range=712014576), Mapping(dest_start=3371830168, src_start=2868339602, range=6480236), Mapping(dest_start=2701475629, src_start=2693517693, range=4446610), Mapping(dest_start=2305721922, src_start=4202308301, range=51187011), Mapping(dest_start=3807886431, src_start=2378854116, range=132471917), Mapping(dest_start=3940358348, src_start=3797290013, range=286915083), Mapping(dest_start=2356908933, src_start=3461242703, range=336047310)], next_mapper=Mapper(name='temperature-to-humidity', mappings=[Mapping(dest_start=4269649447, src_start=2393649810, range=25317849), Mapping(dest_start=2624622018, src_start=1500892381, range=293269560), Mapping(dest_start=3784916401, src_start=3939293015, range=342497756), Mapping(dest_start=2265977332, src_start=3395782296, range=159502803), Mapping(dest_start=1831892433, src_start=2656443697, range=262271473), Mapping(dest_start=3165592569, src_start=2418967659, range=50349192), Mapping(dest_start=2917891578, src_start=2918715170, range=32249137), Mapping(dest_start=3152416044, src_start=4281790771, range=13176525), Mapping(dest_start=2425480135, src_start=3196640413, range=199141883), Mapping(dest_start=0, src_start=541439970, range=311711929), Mapping(dest_start=1823766565, src_start=1492766513, range=8125868), Mapping(dest_start=990491492, src_start=84547230, range=456892740), Mapping(dest_start=311711929, src_start=0, range=84547230), Mapping(dest_start=2950140715, src_start=2469316851, range=187126846), Mapping(dest_start=4127414157, src_start=2950964307, range=142235290), Mapping(dest_start=396259159, src_start=853151899, range=594232333), Mapping(dest_start=3215941761, src_start=3555285099, range=21604105), Mapping(dest_start=2094163906, src_start=2206687901, range=171813426), Mapping(dest_start=3703390493, src_start=2125161993, range=81525908), Mapping(dest_start=3340986682, src_start=3576889204, range=362403811), Mapping(dest_start=3137267561, src_start=2378501327, range=15148483), Mapping(dest_start=3237545866, src_start=3093199597, range=103440816), Mapping(dest_start=1492766513, src_start=1794161941, range=331000052)], next_mapper=Mapper(name='humidity-to-location', mappings=[Mapping(dest_start=697523568, src_start=606382276, range=38912139), Mapping(dest_start=3022503077, src_start=2608306075, range=46906919), Mapping(dest_start=3230895262, src_start=2302415707, range=63420952), Mapping(dest_start=736435707, src_start=183964832, range=131646187), Mapping(dest_start=3507404317, src_start=3731540503, range=41469688), Mapping(dest_start=1013393252, src_start=490470958, range=115911318), Mapping(dest_start=270068585, src_start=0, range=183964832), Mapping(dest_start=3316292469, src_start=3480652736, range=191111848), Mapping(dest_start=3800980345, src_start=2893452190, range=286098783), Mapping(dest_start=2373021543, src_start=3773010191, range=190266), Mapping(dest_start=3548874005, src_start=3993865558, range=91972017), Mapping(dest_start=0, src_start=645294415, range=270068585), Mapping(dest_start=2373211809, src_start=4094117141, range=87252238), Mapping(dest_start=2856512732, src_start=2695675634, range=165990345), Mapping(dest_start=2460464047, src_start=4085837575, range=8279566), Mapping(dest_start=619680743, src_start=351018435, range=72089891), Mapping(dest_start=3069409996, src_start=2365836659, range=129699055), Mapping(dest_start=3640846022, src_start=3813115875, range=53385677), Mapping(dest_start=2729080766, src_start=2240595460, range=61820247), Mapping(dest_start=1554011298, src_start=1459823647, range=179489523), Mapping(dest_start=1884012518, src_start=2495535714, range=112770361), Mapping(dest_start=2468743613, src_start=3363193697, range=35293527), Mapping(dest_start=3199109051, src_start=2861665979, range=31786211), Mapping(dest_start=454033417, src_start=1031019876, range=98284694), Mapping(dest_start=1733500821, src_start=1302115255, range=150511697), Mapping(dest_start=1431930368, src_start=3773200457, range=39915418), Mapping(dest_start=691770634, src_start=930855093, range=5752934), Mapping(dest_start=3694231699, src_start=3671764584, range=59775919), Mapping(dest_start=1302115255, src_start=2655212994, range=40462640), Mapping(dest_start=868081894, src_start=936608027, range=94411849), Mapping(dest_start=4087079128, src_start=4181369379, range=113597917), Mapping(dest_start=1471845786, src_start=3398487224, range=82165512), Mapping(dest_start=997901159, src_start=915363000, range=15492093), Mapping(dest_start=2504037140, src_start=2015551834, range=225043626), Mapping(dest_start=3761204313, src_start=3866501552, range=39776032), Mapping(dest_start=552318111, src_start=423108326, range=67362632), Mapping(dest_start=2790901013, src_start=3906277584, range=65611719), Mapping(dest_start=3294316214, src_start=3971889303, range=21976255), Mapping(dest_start=962493743, src_start=315611019, range=35407416), Mapping(dest_start=4200677045, src_start=3268903446, range=94290251), Mapping(dest_start=3754007618, src_start=1452626952, range=7196695), Mapping(dest_start=1996782879, src_start=1639313170, range=376238664), Mapping(dest_start=1342577895, src_start=3179550973, range=89352473)], next_mapper=None))),\n",
       " Mapper(name='temperature-to-humidity', mappings=[Mapping(dest_start=4269649447, src_start=2393649810, range=25317849), Mapping(dest_start=2624622018, src_start=1500892381, range=293269560), Mapping(dest_start=3784916401, src_start=3939293015, range=342497756), Mapping(dest_start=2265977332, src_start=3395782296, range=159502803), Mapping(dest_start=1831892433, src_start=2656443697, range=262271473), Mapping(dest_start=3165592569, src_start=2418967659, range=50349192), Mapping(dest_start=2917891578, src_start=2918715170, range=32249137), Mapping(dest_start=3152416044, src_start=4281790771, range=13176525), Mapping(dest_start=2425480135, src_start=3196640413, range=199141883), Mapping(dest_start=0, src_start=541439970, range=311711929), Mapping(dest_start=1823766565, src_start=1492766513, range=8125868), Mapping(dest_start=990491492, src_start=84547230, range=456892740), Mapping(dest_start=311711929, src_start=0, range=84547230), Mapping(dest_start=2950140715, src_start=2469316851, range=187126846), Mapping(dest_start=4127414157, src_start=2950964307, range=142235290), Mapping(dest_start=396259159, src_start=853151899, range=594232333), Mapping(dest_start=3215941761, src_start=3555285099, range=21604105), Mapping(dest_start=2094163906, src_start=2206687901, range=171813426), Mapping(dest_start=3703390493, src_start=2125161993, range=81525908), Mapping(dest_start=3340986682, src_start=3576889204, range=362403811), Mapping(dest_start=3137267561, src_start=2378501327, range=15148483), Mapping(dest_start=3237545866, src_start=3093199597, range=103440816), Mapping(dest_start=1492766513, src_start=1794161941, range=331000052)], next_mapper=Mapper(name='humidity-to-location', mappings=[Mapping(dest_start=697523568, src_start=606382276, range=38912139), Mapping(dest_start=3022503077, src_start=2608306075, range=46906919), Mapping(dest_start=3230895262, src_start=2302415707, range=63420952), Mapping(dest_start=736435707, src_start=183964832, range=131646187), Mapping(dest_start=3507404317, src_start=3731540503, range=41469688), Mapping(dest_start=1013393252, src_start=490470958, range=115911318), Mapping(dest_start=270068585, src_start=0, range=183964832), Mapping(dest_start=3316292469, src_start=3480652736, range=191111848), Mapping(dest_start=3800980345, src_start=2893452190, range=286098783), Mapping(dest_start=2373021543, src_start=3773010191, range=190266), Mapping(dest_start=3548874005, src_start=3993865558, range=91972017), Mapping(dest_start=0, src_start=645294415, range=270068585), Mapping(dest_start=2373211809, src_start=4094117141, range=87252238), Mapping(dest_start=2856512732, src_start=2695675634, range=165990345), Mapping(dest_start=2460464047, src_start=4085837575, range=8279566), Mapping(dest_start=619680743, src_start=351018435, range=72089891), Mapping(dest_start=3069409996, src_start=2365836659, range=129699055), Mapping(dest_start=3640846022, src_start=3813115875, range=53385677), Mapping(dest_start=2729080766, src_start=2240595460, range=61820247), Mapping(dest_start=1554011298, src_start=1459823647, range=179489523), Mapping(dest_start=1884012518, src_start=2495535714, range=112770361), Mapping(dest_start=2468743613, src_start=3363193697, range=35293527), Mapping(dest_start=3199109051, src_start=2861665979, range=31786211), Mapping(dest_start=454033417, src_start=1031019876, range=98284694), Mapping(dest_start=1733500821, src_start=1302115255, range=150511697), Mapping(dest_start=1431930368, src_start=3773200457, range=39915418), Mapping(dest_start=691770634, src_start=930855093, range=5752934), Mapping(dest_start=3694231699, src_start=3671764584, range=59775919), Mapping(dest_start=1302115255, src_start=2655212994, range=40462640), Mapping(dest_start=868081894, src_start=936608027, range=94411849), Mapping(dest_start=4087079128, src_start=4181369379, range=113597917), Mapping(dest_start=1471845786, src_start=3398487224, range=82165512), Mapping(dest_start=997901159, src_start=915363000, range=15492093), Mapping(dest_start=2504037140, src_start=2015551834, range=225043626), Mapping(dest_start=3761204313, src_start=3866501552, range=39776032), Mapping(dest_start=552318111, src_start=423108326, range=67362632), Mapping(dest_start=2790901013, src_start=3906277584, range=65611719), Mapping(dest_start=3294316214, src_start=3971889303, range=21976255), Mapping(dest_start=962493743, src_start=315611019, range=35407416), Mapping(dest_start=4200677045, src_start=3268903446, range=94290251), Mapping(dest_start=3754007618, src_start=1452626952, range=7196695), Mapping(dest_start=1996782879, src_start=1639313170, range=376238664), Mapping(dest_start=1342577895, src_start=3179550973, range=89352473)], next_mapper=None)),\n",
       " Mapper(name='humidity-to-location', mappings=[Mapping(dest_start=697523568, src_start=606382276, range=38912139), Mapping(dest_start=3022503077, src_start=2608306075, range=46906919), Mapping(dest_start=3230895262, src_start=2302415707, range=63420952), Mapping(dest_start=736435707, src_start=183964832, range=131646187), Mapping(dest_start=3507404317, src_start=3731540503, range=41469688), Mapping(dest_start=1013393252, src_start=490470958, range=115911318), Mapping(dest_start=270068585, src_start=0, range=183964832), Mapping(dest_start=3316292469, src_start=3480652736, range=191111848), Mapping(dest_start=3800980345, src_start=2893452190, range=286098783), Mapping(dest_start=2373021543, src_start=3773010191, range=190266), Mapping(dest_start=3548874005, src_start=3993865558, range=91972017), Mapping(dest_start=0, src_start=645294415, range=270068585), Mapping(dest_start=2373211809, src_start=4094117141, range=87252238), Mapping(dest_start=2856512732, src_start=2695675634, range=165990345), Mapping(dest_start=2460464047, src_start=4085837575, range=8279566), Mapping(dest_start=619680743, src_start=351018435, range=72089891), Mapping(dest_start=3069409996, src_start=2365836659, range=129699055), Mapping(dest_start=3640846022, src_start=3813115875, range=53385677), Mapping(dest_start=2729080766, src_start=2240595460, range=61820247), Mapping(dest_start=1554011298, src_start=1459823647, range=179489523), Mapping(dest_start=1884012518, src_start=2495535714, range=112770361), Mapping(dest_start=2468743613, src_start=3363193697, range=35293527), Mapping(dest_start=3199109051, src_start=2861665979, range=31786211), Mapping(dest_start=454033417, src_start=1031019876, range=98284694), Mapping(dest_start=1733500821, src_start=1302115255, range=150511697), Mapping(dest_start=1431930368, src_start=3773200457, range=39915418), Mapping(dest_start=691770634, src_start=930855093, range=5752934), Mapping(dest_start=3694231699, src_start=3671764584, range=59775919), Mapping(dest_start=1302115255, src_start=2655212994, range=40462640), Mapping(dest_start=868081894, src_start=936608027, range=94411849), Mapping(dest_start=4087079128, src_start=4181369379, range=113597917), Mapping(dest_start=1471845786, src_start=3398487224, range=82165512), Mapping(dest_start=997901159, src_start=915363000, range=15492093), Mapping(dest_start=2504037140, src_start=2015551834, range=225043626), Mapping(dest_start=3761204313, src_start=3866501552, range=39776032), Mapping(dest_start=552318111, src_start=423108326, range=67362632), Mapping(dest_start=2790901013, src_start=3906277584, range=65611719), Mapping(dest_start=3294316214, src_start=3971889303, range=21976255), Mapping(dest_start=962493743, src_start=315611019, range=35407416), Mapping(dest_start=4200677045, src_start=3268903446, range=94290251), Mapping(dest_start=3754007618, src_start=1452626952, range=7196695), Mapping(dest_start=1996782879, src_start=1639313170, range=376238664), Mapping(dest_start=1342577895, src_start=3179550973, range=89352473)], next_mapper=None)]"
      ]
     },
     "execution_count": 18,
     "metadata": {},
     "output_type": "execute_result"
    }
   ],
   "source": [
    "mappers"
   ]
  },
  {
   "cell_type": "code",
   "execution_count": 19,
   "metadata": {},
   "outputs": [],
   "source": [
    "lowest_location = None"
   ]
  },
  {
   "cell_type": "code",
   "execution_count": 20,
   "metadata": {},
   "outputs": [
    {
     "name": "stdout",
     "output_type": "stream",
     "text": [
      "in seed-to-soil mapper\n",
      "in seed-to-soil mapper\n",
      "in seed-to-soil mapper\n",
      "in seed-to-soil mapper\n",
      "in seed-to-soil mapper\n",
      "in seed-to-soil mapper\n",
      "in seed-to-soil mapper\n",
      "in seed-to-soil mapper\n",
      "in seed-to-soil mapper\n",
      "in seed-to-soil mapper\n",
      "in seed-to-soil mapper\n",
      "in seed-to-soil mapper\n",
      "in seed-to-soil mapper\n",
      "in seed-to-soil mapper\n",
      "in seed-to-soil mapper\n",
      "in seed-to-soil mapper\n",
      "in seed-to-soil mapper\n",
      "in seed-to-soil mapper\n",
      "in seed-to-soil mapper\n",
      "in seed-to-soil mapper\n"
     ]
    }
   ],
   "source": [
    "for seed in seeds:\n",
    "    num = mappers[0].get_dest(seed)\n",
    "    if not lowest_location or num < lowest_location:\n",
    "        lowest_location = num"
   ]
  },
  {
   "cell_type": "code",
   "execution_count": 21,
   "metadata": {},
   "outputs": [
    {
     "data": {
      "text/plain": [
       "17974236"
      ]
     },
     "execution_count": 21,
     "metadata": {},
     "output_type": "execute_result"
    }
   ],
   "source": [
    "lowest_location"
   ]
  },
  {
   "cell_type": "markdown",
   "metadata": {},
   "source": [
    "## Part 2"
   ]
  },
  {
   "cell_type": "code",
   "execution_count": 22,
   "metadata": {},
   "outputs": [
    {
     "data": {
      "text/plain": [
       "[1187290020,\n",
       " 247767461,\n",
       " 40283135,\n",
       " 64738286,\n",
       " 2044483296,\n",
       " 66221787,\n",
       " 1777809491,\n",
       " 103070898,\n",
       " 108732160,\n",
       " 261552692,\n",
       " 3810626561,\n",
       " 257826205,\n",
       " 3045614911,\n",
       " 65672948,\n",
       " 744199732,\n",
       " 300163578,\n",
       " 3438684365,\n",
       " 82800966,\n",
       " 2808575117,\n",
       " 229295075]"
      ]
     },
     "execution_count": 22,
     "metadata": {},
     "output_type": "execute_result"
    }
   ],
   "source": [
    "seeds"
   ]
  },
  {
   "cell_type": "code",
   "execution_count": 23,
   "metadata": {},
   "outputs": [],
   "source": [
    "seed_ranges = []\n",
    "for start, length in zip(*[iter(seeds)]*2):\n",
    "    seed_ranges.append((start, start + length - 1))"
   ]
  },
  {
   "cell_type": "code",
   "execution_count": 24,
   "metadata": {},
   "outputs": [],
   "source": [
    "for mapper in mappers:\n",
    "    new_ranges = []\n",
    "    while len(seed_ranges) > 0:\n",
    "        start, end = seed_ranges.pop(0)\n",
    "        for mapping in mapper.mappings:\n",
    "            m_start, m_end = mapping.src_range\n",
    "            if end < m_start or start > m_end:\n",
    "                # no overlap. skip range\n",
    "                continue\n",
    "            possible_start = max(start, m_start)\n",
    "            possible_end = min(end, m_end)\n",
    "            if possible_end - possible_start > 0:\n",
    "                # valid new range\n",
    "                new_ranges.append((possible_start + mapping.difference, possible_end + mapping.difference - 1))\n",
    "            if possible_start - start > 0:\n",
    "                new_ranges.append((start, possible_start - 1))\n",
    "            if end - possible_end > 0:\n",
    "                new_ranges.append((possible_end, end))\n",
    "    seed_ranges = new_ranges"
   ]
  },
  {
   "cell_type": "code",
   "execution_count": 27,
   "metadata": {},
   "outputs": [],
   "source": [
    "new_ranges.sort(key=lambda v: v[0])"
   ]
  },
  {
   "cell_type": "code",
   "execution_count": 30,
   "metadata": {},
   "outputs": [
    {
     "data": {
      "text/plain": [
       "(11554135, 98032950)"
      ]
     },
     "execution_count": 30,
     "metadata": {},
     "output_type": "execute_result"
    }
   ],
   "source": [
    "new_ranges[0]"
   ]
  },
  {
   "cell_type": "code",
   "execution_count": null,
   "metadata": {},
   "outputs": [],
   "source": []
  }
 ],
 "metadata": {
  "kernelspec": {
   "display_name": "Python 3",
   "language": "python",
   "name": "python3"
  },
  "language_info": {
   "codemirror_mode": {
    "name": "ipython",
    "version": 3
   },
   "file_extension": ".py",
   "mimetype": "text/x-python",
   "name": "python",
   "nbconvert_exporter": "python",
   "pygments_lexer": "ipython3",
   "version": "3.11.2"
  }
 },
 "nbformat": 4,
 "nbformat_minor": 2
}
