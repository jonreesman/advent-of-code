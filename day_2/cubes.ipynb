{
 "cells": [
  {
   "cell_type": "markdown",
   "metadata": {},
   "source": [
    "# Cube Conundrum"
   ]
  },
  {
   "cell_type": "markdown",
   "metadata": {},
   "source": [
    "## Part 1"
   ]
  },
  {
   "cell_type": "code",
   "execution_count": 37,
   "metadata": {},
   "outputs": [],
   "source": [
    "from dataclasses import dataclass\n",
    "from enum import StrEnum\n",
    "\n",
    "class Cube(StrEnum):\n",
    "    RED = \"red\"\n",
    "    GREEN = \"green\"\n",
    "    BLUE = \"blue\"\n",
    "\n",
    "@dataclass\n",
    "class Hand:\n",
    "    red: int\n",
    "    green: int\n",
    "    blue: int\n",
    "\n",
    "@dataclass\n",
    "class Game:\n",
    "    id: int\n",
    "    hands: list[Hand]\n",
    "    \n",
    "    def max_red(self):\n",
    "        max = 0\n",
    "        for hand in self.hands:\n",
    "            if hand.red > max:\n",
    "                max = hand.red\n",
    "        return max\n",
    "\n",
    "    def max_blue(self):\n",
    "        max = 0\n",
    "        for hand in self.hands:\n",
    "            if hand.blue > max:\n",
    "                max = hand.blue\n",
    "        return max\n",
    "\n",
    "    def max_green(self):\n",
    "        max = 0\n",
    "        for hand in self.hands:\n",
    "            if hand.green > max:\n",
    "                max = hand.green\n",
    "        return max"
   ]
  },
  {
   "cell_type": "code",
   "execution_count": 41,
   "metadata": {},
   "outputs": [],
   "source": [
    "lines = []\n",
    "with open('input') as fp:\n",
    "    lines = fp.readlines()"
   ]
  },
  {
   "cell_type": "code",
   "execution_count": 42,
   "metadata": {},
   "outputs": [],
   "source": [
    "def extract_game(line) -> Game:\n",
    "    id = line.removeprefix(\"Game \").split(\":\")[0]\n",
    "    hands = [s.strip() for s in line.split(\":\")[1].split(';')]\n",
    "    g = Game(id, hands=[])\n",
    "    for hand in hands:\n",
    "        h = Hand(0,0,0)\n",
    "        cubes = [r.strip() for r in hand.split(\",\")]\n",
    "        for cube in cubes:\n",
    "            if Cube.RED in cube:\n",
    "                h.red = int(cube.replace(Cube.RED, '').strip())\n",
    "            if Cube.GREEN in cube:\n",
    "                h.green = int(cube.replace(Cube.GREEN, '').strip())\n",
    "            if Cube.BLUE in cube:\n",
    "                h.blue = int(cube.replace(Cube.BLUE, '').strip())\n",
    "        g.hands.append(h)\n",
    "    return g"
   ]
  },
  {
   "cell_type": "code",
   "execution_count": 43,
   "metadata": {},
   "outputs": [],
   "source": [
    "games = [ extract_game(line) for line in lines]"
   ]
  },
  {
   "cell_type": "code",
   "execution_count": 46,
   "metadata": {},
   "outputs": [],
   "source": [
    "sum = 0\n",
    "for game in games:\n",
    "    if game.max_red() <= 12 \\\n",
    "        and game.max_blue() <= 14 \\\n",
    "        and game.max_green() <= 13:\n",
    "            sum += int(game.id)"
   ]
  },
  {
   "cell_type": "code",
   "execution_count": 47,
   "metadata": {},
   "outputs": [
    {
     "data": {
      "text/plain": [
       "2283"
      ]
     },
     "execution_count": 47,
     "metadata": {},
     "output_type": "execute_result"
    }
   ],
   "source": [
    "sum"
   ]
  },
  {
   "cell_type": "markdown",
   "metadata": {},
   "source": [
    "## Part 2"
   ]
  },
  {
   "cell_type": "code",
   "execution_count": 48,
   "metadata": {},
   "outputs": [],
   "source": [
    "games = [ extract_game(line) for line in lines]"
   ]
  },
  {
   "cell_type": "code",
   "execution_count": 49,
   "metadata": {},
   "outputs": [],
   "source": [
    "sum = 0\n",
    "for game in games:\n",
    "    sum += game.max_blue() * game.max_green() * game.max_red()"
   ]
  },
  {
   "cell_type": "code",
   "execution_count": 50,
   "metadata": {},
   "outputs": [
    {
     "data": {
      "text/plain": [
       "78669"
      ]
     },
     "execution_count": 50,
     "metadata": {},
     "output_type": "execute_result"
    }
   ],
   "source": [
    "sum"
   ]
  }
 ],
 "metadata": {
  "kernelspec": {
   "display_name": "Python 3",
   "language": "python",
   "name": "python3"
  },
  "language_info": {
   "codemirror_mode": {
    "name": "ipython",
    "version": 3
   },
   "file_extension": ".py",
   "mimetype": "text/x-python",
   "name": "python",
   "nbconvert_exporter": "python",
   "pygments_lexer": "ipython3",
   "version": "3.11.2"
  }
 },
 "nbformat": 4,
 "nbformat_minor": 2
}
