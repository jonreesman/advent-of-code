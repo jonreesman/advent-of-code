{
 "cells": [
  {
   "cell_type": "markdown",
   "metadata": {},
   "source": [
    "# Day 7: Camel Cards"
   ]
  },
  {
   "cell_type": "markdown",
   "metadata": {},
   "source": [
    "## Part 1"
   ]
  },
  {
   "cell_type": "code",
   "execution_count": 83,
   "metadata": {},
   "outputs": [],
   "source": [
    "lines = []\n",
    "with open('input') as fp:\n",
    "    lines = fp.readlines()"
   ]
  },
  {
   "cell_type": "code",
   "execution_count": 84,
   "metadata": {},
   "outputs": [],
   "source": [
    "from dataclasses import dataclass\n",
    "from enum import Enum, IntEnum, StrEnum, auto\n",
    "from functools import cached_property, total_ordering\n",
    "\n",
    "@total_ordering\n",
    "class Card(StrEnum):\n",
    "    A = \"A\"\n",
    "    K = \"K\"\n",
    "    Q = \"Q\"\n",
    "    J = \"J\"\n",
    "    T = \"T\"\n",
    "    NINE = \"9\"\n",
    "    EIGHT = \"8\"\n",
    "    SEVEN = \"7\"\n",
    "    SIX = \"6\"\n",
    "    FIVE = \"5\"\n",
    "    FOUR = \"4\"\n",
    "    THREE = \"3\"\n",
    "    TWO = \"2\"\n",
    "    \n",
    "    def __lt__(self, other):\n",
    "        return list(Card).index(self) > list(Card).index(other)\n",
    "    def __gt__(self, other):\n",
    "        return list(Card).index(self) < list(Card).index(other)\n",
    "\n",
    "class Type(IntEnum):\n",
    "    FIVE_OF_A_KIND = auto()\n",
    "    FOUR_OF_A_KIND = auto()\n",
    "    FULL_HOUSE = auto()\n",
    "    THREE_OF_A_KIND = auto()\n",
    "    TWO_PAIR = auto()\n",
    "    ONE_PAIR = auto()\n",
    "    HIGH_CARD = auto()\n",
    "\n",
    "@total_ordering\n",
    "@dataclass\n",
    "class Hand:\n",
    "    hand: str\n",
    "    bid: int\n",
    "\n",
    "    @cached_property\n",
    "    def cards(self) -> list[str]:\n",
    "        return [*self.hand]\n",
    "    \n",
    "    @cached_property\n",
    "    def type(self) -> Type:\n",
    "        card_set = set(self.cards)\n",
    "        if len(card_set) == 1:\n",
    "            return Type.FIVE_OF_A_KIND\n",
    "        if len(card_set) == 2:\n",
    "            if self.cards.count(list(card_set)[0]) == 1 or self.cards.count(list(card_set)[1]) == 1:\n",
    "                return Type.FOUR_OF_A_KIND\n",
    "            return Type.FULL_HOUSE\n",
    "        if len(card_set) == 3:\n",
    "            for card in card_set:\n",
    "                if self.cards.count(card) == 3:\n",
    "                    return Type.THREE_OF_A_KIND\n",
    "            return Type.TWO_PAIR\n",
    "        if len(card_set) == 4:\n",
    "            return Type.ONE_PAIR\n",
    "        return Type.HIGH_CARD\n",
    "    \n",
    "    def __lt__(self, other):\n",
    "        if self.type == other.type:\n",
    "            for card_1, card_2 in zip(self.cards, other.cards):\n",
    "                if card_1 == card_2:\n",
    "                    continue\n",
    "                return Card(card_1) < Card(card_2)\n",
    "        else:\n",
    "            return self.type > other.type\n",
    "\n",
    "    def __gt__(self, other):\n",
    "        if self.type == other.type:\n",
    "            for card_1, card_2 in zip(self.cards, other.cards):\n",
    "                if card_1 == card_2:\n",
    "                    continue\n",
    "                return Card(card_1) > Card(card_2)\n",
    "        else:\n",
    "            return self.type < other.type"
   ]
  },
  {
   "cell_type": "code",
   "execution_count": 86,
   "metadata": {},
   "outputs": [],
   "source": [
    "hands = []\n",
    "for line in lines:\n",
    "    cards, bid = line.split()\n",
    "    hands.append(Hand(cards, int(bid)))"
   ]
  },
  {
   "cell_type": "code",
   "execution_count": 87,
   "metadata": {},
   "outputs": [],
   "source": [
    "hands.sort()"
   ]
  },
  {
   "cell_type": "code",
   "execution_count": 88,
   "metadata": {},
   "outputs": [],
   "source": [
    "winnings = 0\n",
    "\n",
    "for idx, hand in enumerate(hands):\n",
    "    winnings += (idx + 1) * hand.bid"
   ]
  },
  {
   "cell_type": "code",
   "execution_count": 89,
   "metadata": {},
   "outputs": [
    {
     "data": {
      "text/plain": [
       "249483956"
      ]
     },
     "execution_count": 89,
     "metadata": {},
     "output_type": "execute_result"
    }
   ],
   "source": [
    "winnings"
   ]
  },
  {
   "cell_type": "markdown",
   "metadata": {},
   "source": [
    "## Part 2"
   ]
  },
  {
   "cell_type": "code",
   "execution_count": 90,
   "metadata": {},
   "outputs": [],
   "source": [
    "@total_ordering\n",
    "class Card(StrEnum):\n",
    "    A = \"A\"\n",
    "    K = \"K\"\n",
    "    Q = \"Q\"\n",
    "    T = \"T\"\n",
    "    NINE = \"9\"\n",
    "    EIGHT = \"8\"\n",
    "    SEVEN = \"7\"\n",
    "    SIX = \"6\"\n",
    "    FIVE = \"5\"\n",
    "    FOUR = \"4\"\n",
    "    THREE = \"3\"\n",
    "    TWO = \"2\"\n",
    "    J = \"J\"\n",
    "    \n",
    "    def __lt__(self, other):\n",
    "        return list(Card).index(self) > list(Card).index(other)\n",
    "    def __gt__(self, other):\n",
    "        return list(Card).index(self) < list(Card).index(other)"
   ]
  },
  {
   "cell_type": "code",
   "execution_count": 109,
   "metadata": {},
   "outputs": [],
   "source": [
    "@total_ordering\n",
    "@dataclass\n",
    "class Hand:\n",
    "    hand: str\n",
    "    bid: int\n",
    "\n",
    "    @cached_property\n",
    "    def cards(self) -> list[str]:\n",
    "        return [*self.hand]\n",
    "    \n",
    "    @cached_property\n",
    "    def type(self) -> Type:\n",
    "        card_set = set(self.cards)\n",
    "        cards = self.cards\n",
    "        if Card.J in card_set:\n",
    "            most = None\n",
    "            for card in card_set:\n",
    "                if card == Card.J:\n",
    "                    continue\n",
    "                if not most or cards.count(card) > cards.count(most):\n",
    "                    most = card\n",
    "            cards = [card if card != Card.J else most for card in cards]\n",
    "            card_set = set(cards)\n",
    "        if len(card_set) == 1:\n",
    "            return Type.FIVE_OF_A_KIND\n",
    "        if len(card_set) == 2:\n",
    "            if cards.count(list(card_set)[0]) == 1 or cards.count(list(card_set)[1]) == 1:\n",
    "                return Type.FOUR_OF_A_KIND\n",
    "            return Type.FULL_HOUSE\n",
    "        if len(card_set) == 3:\n",
    "            for card in card_set:\n",
    "                if cards.count(card) == 3:\n",
    "                    return Type.THREE_OF_A_KIND\n",
    "            return Type.TWO_PAIR\n",
    "        if len(card_set) == 4:\n",
    "            return Type.ONE_PAIR\n",
    "        return Type.HIGH_CARD\n",
    "    \n",
    "    def __lt__(self, other):\n",
    "        if self.type == other.type:\n",
    "            for card_1, card_2 in zip(self.cards, other.cards):\n",
    "                if card_1 == card_2:\n",
    "                    continue\n",
    "                return Card(card_1) < Card(card_2)\n",
    "        else:\n",
    "            return self.type > other.type\n",
    "\n",
    "    def __gt__(self, other):\n",
    "        if self.type == other.type:\n",
    "            for card_1, card_2 in zip(self.cards, other.cards):\n",
    "                if card_1 == card_2:\n",
    "                    continue\n",
    "                return Card(card_1) > Card(card_2)\n",
    "        else:\n",
    "            return self.type < other.type"
   ]
  },
  {
   "cell_type": "code",
   "execution_count": 110,
   "metadata": {},
   "outputs": [],
   "source": [
    "hands = []\n",
    "for line in lines:\n",
    "    cards, bid = line.split()\n",
    "    hands.append(Hand(cards, int(bid)))"
   ]
  },
  {
   "cell_type": "code",
   "execution_count": 111,
   "metadata": {},
   "outputs": [],
   "source": [
    "hands.sort()"
   ]
  },
  {
   "cell_type": "code",
   "execution_count": 112,
   "metadata": {},
   "outputs": [],
   "source": [
    "winnings = 0\n",
    "\n",
    "for idx, hand in enumerate(hands):\n",
    "    winnings += (idx + 1) * hand.bid"
   ]
  },
  {
   "cell_type": "code",
   "execution_count": 113,
   "metadata": {},
   "outputs": [
    {
     "data": {
      "text/plain": [
       "252137472"
      ]
     },
     "execution_count": 113,
     "metadata": {},
     "output_type": "execute_result"
    }
   ],
   "source": [
    "winnings"
   ]
  },
  {
   "cell_type": "code",
   "execution_count": null,
   "metadata": {},
   "outputs": [],
   "source": []
  }
 ],
 "metadata": {
  "kernelspec": {
   "display_name": "advent-env",
   "language": "python",
   "name": "python3"
  },
  "language_info": {
   "codemirror_mode": {
    "name": "ipython",
    "version": 3
   },
   "file_extension": ".py",
   "mimetype": "text/x-python",
   "name": "python",
   "nbconvert_exporter": "python",
   "pygments_lexer": "ipython3",
   "version": "3.11.2"
  }
 },
 "nbformat": 4,
 "nbformat_minor": 2
}
