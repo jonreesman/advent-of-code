{
 "cells": [
  {
   "cell_type": "markdown",
   "metadata": {},
   "source": [
    "# Day 6: Wait For It"
   ]
  },
  {
   "cell_type": "markdown",
   "metadata": {},
   "source": [
    "## Part 1"
   ]
  },
  {
   "cell_type": "code",
   "execution_count": 11,
   "metadata": {},
   "outputs": [],
   "source": [
    "times = []\n",
    "distances = []\n",
    "with open('input') as fp:\n",
    "    times = fp.readline()\n",
    "    distances = fp.readline()"
   ]
  },
  {
   "cell_type": "code",
   "execution_count": 12,
   "metadata": {},
   "outputs": [],
   "source": [
    "times = times.split(\":\")[1].strip().split()\n",
    "times = [int(time) for time in times]\n",
    "\n",
    "distances = distances.split(\":\")[1].strip().split()\n",
    "distances = [int(dist) for dist in distances]"
   ]
  },
  {
   "cell_type": "code",
   "execution_count": 15,
   "metadata": {},
   "outputs": [],
   "source": [
    "races = list(zip(times, distances))"
   ]
  },
  {
   "cell_type": "code",
   "execution_count": 17,
   "metadata": {},
   "outputs": [
    {
     "name": "stdout",
     "output_type": "stream",
     "text": [
      "633080\n"
     ]
    }
   ],
   "source": [
    "total_wins = []\n",
    "for time, winning_distance in races:\n",
    "    wins = 0\n",
    "    for i in range(time+1): # time held\n",
    "        distance = (time - i)*i\n",
    "        if distance > winning_distance:\n",
    "            wins = wins + 1\n",
    "    if wins > 0:\n",
    "        total_wins.append(wins)\n",
    "total = 1\n",
    "for w in total_wins:\n",
    "    total *= w\n",
    "print(total)        "
   ]
  },
  {
   "cell_type": "markdown",
   "metadata": {},
   "source": [
    "## Part 2"
   ]
  },
  {
   "cell_type": "code",
   "execution_count": 59,
   "metadata": {},
   "outputs": [],
   "source": [
    "times = []\n",
    "distances = []\n",
    "with open('input') as fp:\n",
    "    times = fp.readline()\n",
    "    distances = fp.readline()"
   ]
  },
  {
   "cell_type": "code",
   "execution_count": 60,
   "metadata": {},
   "outputs": [],
   "source": [
    "times = times.split(\":\")[1].strip().split()\n",
    "time = ''.join(times)\n",
    "time = int(time)\n",
    "\n",
    "distances = distances.split(\":\")[1].strip().split()\n",
    "winning_distance = ''.join(distances)\n",
    "winning_distance = int(winning_distance)"
   ]
  },
  {
   "cell_type": "code",
   "execution_count": 61,
   "metadata": {},
   "outputs": [
    {
     "data": {
      "text/plain": [
       "204171312101780"
      ]
     },
     "execution_count": 61,
     "metadata": {},
     "output_type": "execute_result"
    }
   ],
   "source": [
    "winning_distance"
   ]
  },
  {
   "cell_type": "markdown",
   "metadata": {},
   "source": [
    "$$ distance = (time - i)*i $$\n",
    "\n",
    "$$ distance = time*i - i^2 $$\n",
    "\n",
    "$$ x^2 - 34908986*x + 204171312101780 $$\n",
    "\n",
    "$$ x = \\frac{34908986 +/- \\sqrt{34908986^2 - 4*204171312101780}}{2} $$"
   ]
  },
  {
   "cell_type": "code",
   "execution_count": 66,
   "metadata": {},
   "outputs": [],
   "source": [
    "import math\n",
    "\n",
    "min_i_plus = (time + math.sqrt(time*time - 4*winning_distance))/2\n",
    "min_i_minus = (time - math.sqrt(time*time - 4*winning_distance))/2\n",
    "\n",
    "min_i = math.floor(min(min_i_plus, min_i_minus))\n"
   ]
  },
  {
   "cell_type": "code",
   "execution_count": 67,
   "metadata": {},
   "outputs": [
    {
     "data": {
      "text/plain": [
       "7430122"
      ]
     },
     "execution_count": 67,
     "metadata": {},
     "output_type": "execute_result"
    }
   ],
   "source": [
    "min_i"
   ]
  },
  {
   "cell_type": "code",
   "execution_count": 68,
   "metadata": {},
   "outputs": [],
   "source": [
    "wins = 0\n",
    "for i in range(min_i, time+1): # time held\n",
    "    distance = (time - i)*i\n",
    "    if distance > winning_distance:\n",
    "        wins = wins + 1"
   ]
  },
  {
   "cell_type": "code",
   "execution_count": 69,
   "metadata": {},
   "outputs": [
    {
     "data": {
      "text/plain": [
       "20048741"
      ]
     },
     "execution_count": 69,
     "metadata": {},
     "output_type": "execute_result"
    }
   ],
   "source": [
    "wins"
   ]
  }
 ],
 "metadata": {
  "kernelspec": {
   "display_name": "advent-env",
   "language": "python",
   "name": "python3"
  },
  "language_info": {
   "codemirror_mode": {
    "name": "ipython",
    "version": 3
   },
   "file_extension": ".py",
   "mimetype": "text/x-python",
   "name": "python",
   "nbconvert_exporter": "python",
   "pygments_lexer": "ipython3",
   "version": "3.11.2"
  }
 },
 "nbformat": 4,
 "nbformat_minor": 2
}
